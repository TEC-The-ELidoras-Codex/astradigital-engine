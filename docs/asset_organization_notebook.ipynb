{
 "cells": [
  {
   "cell_type": "markdown",
   "id": "60320785",
   "metadata": {},
   "source": []
  },
  {
   "cell_type": "markdown",
   "id": "1e8f5546",
   "metadata": {},
   "source": []
  },
  {
   "cell_type": "markdown",
   "id": "df9798fa",
   "metadata": {},
   "source": []
  },
  {
   "cell_type": "markdown",
   "id": "d5a130ba",
   "metadata": {},
   "source": []
  },
  {
   "cell_type": "markdown",
   "id": "a063eeff",
   "metadata": {},
   "source": []
  },
  {
   "cell_type": "code",
   "execution_count": null,
   "id": "66901617",
   "metadata": {},
   "outputs": [],
   "source": []
  },
  {
   "cell_type": "markdown",
   "id": "f67cd879",
   "metadata": {},
   "source": []
  },
  {
   "cell_type": "code",
   "execution_count": null,
   "id": "f3e3c47d",
   "metadata": {},
   "outputs": [],
   "source": []
  },
  {
   "cell_type": "markdown",
   "id": "56175231",
   "metadata": {},
   "source": []
  },
  {
   "cell_type": "code",
   "execution_count": null,
   "id": "a2b83a4b",
   "metadata": {},
   "outputs": [],
   "source": []
  },
  {
   "cell_type": "markdown",
   "id": "8f92ae62",
   "metadata": {},
   "source": []
  },
  {
   "cell_type": "code",
   "execution_count": null,
   "id": "6a0cd84f",
   "metadata": {},
   "outputs": [],
   "source": []
  },
  {
   "cell_type": "code",
   "execution_count": null,
   "id": "d5603f48",
   "metadata": {},
   "outputs": [],
   "source": []
  },
  {
   "cell_type": "markdown",
   "id": "d12a7431",
   "metadata": {},
   "source": []
  },
  {
   "cell_type": "markdown",
   "id": "084466da",
   "metadata": {},
   "source": []
  },
  {
   "cell_type": "markdown",
   "id": "762fa4ea",
   "metadata": {},
   "source": []
  },
  {
   "cell_type": "markdown",
   "id": "dd3017a5",
   "metadata": {},
   "source": []
  },
  {
   "cell_type": "markdown",
   "id": "91bddbc7",
   "metadata": {},
   "source": [
    "## Docker Asset Optimization\n",
    "\n",
    "This section demonstrates how to prepare assets for Docker container deployment."
   ]
  },
  {
   "cell_type": "code",
   "execution_count": null,
   "id": "8fbc07b3",
   "metadata": {},
   "outputs": [],
   "source": [
    "# Example of using the Docker asset preparation script\n",
    "\n",
    "import os\n",
    "import subprocess\n",
    "\n",
    "# Define paths\n",
    "SCRIPT_PATH = os.path.join('..', 'assets', 'scripts', 'prepare_docker_assets.py')\n",
    "SOURCE_DIR = os.path.join('..', 'assets', 'source', 'images', 'logos')\n",
    "\n",
    "# Prepare Docker assets\n",
    "def prepare_docker_assets(container_name, source_dir):\n",
    "    cmd = [\n",
    "        'python', SCRIPT_PATH,\n",
    "        '--name', container_name,\n",
    "        '--source', source_dir\n",
    "    ]\n",
    "    \n",
    "    print(f\"Running: {' '.join(cmd)}\")\n",
    "    result = subprocess.run(cmd, capture_output=True, text=True)\n",
    "    \n",
    "    if result.returncode == 0:\n",
    "        print(\"Success!\")\n",
    "        print(result.stdout)\n",
    "    else:\n",
    "        print(\"Error:\")\n",
    "        print(result.stderr)\n",
    "\n",
    "# Example usage (commented out to prevent accidental execution)\n",
    "# prepare_docker_assets('tec-api-server', SOURCE_DIR)"
   ]
  },
  {
   "cell_type": "markdown",
   "id": "f11aae31",
   "metadata": {},
   "source": [
    "### Docker Asset Package Structure\n",
    "\n",
    "The Docker asset preparation script creates a deployment package with the following structure:\n",
    "\n",
    "```\n",
    "deployment/docker/YYYYMMDD-container-name/\n",
    "├── static/         # Static web files\n",
    "├── images/         # Optimized images\n",
    "├── config/         # Configuration files\n",
    "├── metadata.json   # Asset metadata\n",
    "├── Dockerfile.snippet   # Docker integration snippet\n",
    "├── docker-compose.snippet.yml  # Docker Compose example\n",
    "└── README.md       # Usage instructions\n",
    "```\n",
    "\n",
    "This organization allows for easy integration into Docker builds."
   ]
  },
  {
   "cell_type": "code",
   "execution_count": null,
   "id": "9613f10e",
   "metadata": {},
   "outputs": [],
   "source": [
    "# Example of integrating Docker assets into a Dockerfile\n",
    "\n",
    "docker_snippet = '''\n",
    "# Dockerfile for TEC API Server\n",
    "FROM python:3.9-slim\n",
    "\n",
    "# Set working directory\n",
    "WORKDIR /app\n",
    "\n",
    "# Install dependencies\n",
    "COPY requirements.txt .\n",
    "RUN pip install --no-cache-dir -r requirements.txt\n",
    "\n",
    "# Copy application code\n",
    "COPY . .\n",
    "\n",
    "# Copy optimized assets into the container\n",
    "COPY ./assets/static/ /app/static/\n",
    "COPY ./assets/images/ /app/images/\n",
    "COPY ./assets/config/ /app/config/\n",
    "\n",
    "# Set environment variables for asset paths\n",
    "ENV ASSET_PATH=/app\n",
    "ENV STATIC_PATH=/app/static\n",
    "ENV IMAGES_PATH=/app/images\n",
    "ENV CONFIG_PATH=/app/config\n",
    "\n",
    "# Expose port\n",
    "EXPOSE 8000\n",
    "\n",
    "# Start the application\n",
    "CMD [\"python\", \"app.py\"]\n",
    "'''\n",
    "\n",
    "print(docker_snippet)"
   ]
  },
  {
   "cell_type": "markdown",
   "id": "ab92d55b",
   "metadata": {},
   "source": [
    "### Docker Image Size Optimization Techniques\n",
    "\n",
    "When including assets in Docker containers, size optimization is crucial. The Docker asset optimization script applies these techniques:\n",
    "\n",
    "1. **Convert images to WebP format**: Significantly reduces file size while maintaining quality\n",
    "2. **Resize large images**: Reduces dimensions to appropriate sizes for containers\n",
    "3. **Use multi-stage builds**: Keep build tools in build stage, copy only optimized assets to final stage\n",
    "4. **Consider external storage**: For very large assets, consider using volumes or external storage\n",
    "\n",
    "These techniques help keep Docker images slim and efficient."
   ]
  }
 ],
 "metadata": {
  "language_info": {
   "name": "python"
  }
 },
 "nbformat": 4,
 "nbformat_minor": 5
}
